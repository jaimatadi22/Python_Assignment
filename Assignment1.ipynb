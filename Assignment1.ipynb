{
 "cells": [
  {
   "cell_type": "markdown",
   "id": "6d48836d-92da-48c9-839b-1ed2abff09d7",
   "metadata": {},
   "source": [
    "# My Jupyter Notebook on IBM Watson Studio"
   ]
  },
  {
   "cell_type": "markdown",
   "id": "ddeaf194-d1ca-4025-b6a4-e0c767c8b1e1",
   "metadata": {},
   "source": [
    "**Sanjay Dadlani**\n",
    "<br>\n",
    "Business Analyst \n",
    "</br>"
   ]
  },
  {
   "cell_type": "markdown",
   "id": "f7743eb0-4a22-48a7-90b4-98a6020bf5e7",
   "metadata": {},
   "source": [
    "*I am interested in data science because it will help me achieve my career goals.*"
   ]
  },
  {
   "cell_type": "markdown",
   "id": "16c45314-5c61-4312-b31b-d2d3aaf6d17b",
   "metadata": {},
   "source": [
    "### The below code will result in the type of variable (boolean) for a condition that 2 is greater than 1"
   ]
  },
  {
   "cell_type": "code",
   "execution_count": 9,
   "id": "62be99db-6fc6-4c0d-8c07-8a60f54b3cb4",
   "metadata": {},
   "outputs": [
    {
     "name": "stdout",
     "output_type": "stream",
     "text": [
      "<class 'bool'>\n"
     ]
    }
   ],
   "source": [
    "print(type(2>1))"
   ]
  },
  {
   "cell_type": "markdown",
   "id": "da81706b-0ea9-4c6f-8958-431bde2cc0a9",
   "metadata": {},
   "source": [
    "****\n",
    "This is a horizontal line rule\n",
    "****\n",
    "\n",
    "<br>Below is a bulleted list:</br>\n",
    "* Bread\n",
    "* Butter\n",
    "* Ice Cream\n",
    "* Sandwich\n",
    "\n",
    "<br> Below is a numbered list: </br>\n",
    "1. iPhone\n",
    "2. iMac\n",
    "3. Macbook\n",
    "\n",
    "<br> This is a table for random employee designation:</br>\n",
    "Name| Designation\n",
    "---|---\n",
    "|Sanjay| WFM Analyst\n",
    "|Shyanne| Customer Care Executive| \n",
    "\n",
    "<br>This is a link to Coursera:</br>\n",
    "<a> href=https://www.coursera.org/\">\n"
   ]
  },
  {
   "cell_type": "code",
   "execution_count": null,
   "id": "3b1100a0-5c5c-4158-b5e2-caf23e7a05a3",
   "metadata": {},
   "outputs": [],
   "source": []
  },
  {
   "cell_type": "code",
   "execution_count": null,
   "id": "e5f769cf-e5df-4718-930b-fd958a6beeea",
   "metadata": {},
   "outputs": [],
   "source": []
  },
  {
   "cell_type": "code",
   "execution_count": null,
   "id": "71b8b754-4237-4bf3-82ab-2501904b40f1",
   "metadata": {},
   "outputs": [],
   "source": []
  },
  {
   "cell_type": "code",
   "execution_count": null,
   "id": "7312dd0f-d252-43b2-a8a2-5075dfc50555",
   "metadata": {},
   "outputs": [],
   "source": []
  },
  {
   "cell_type": "code",
   "execution_count": null,
   "id": "afb38872-4903-4ffc-bd49-ae27c3c95473",
   "metadata": {},
   "outputs": [],
   "source": []
  }
 ],
 "metadata": {
  "kernelspec": {
   "display_name": "Python",
   "language": "python",
   "name": "conda-env-python-py"
  },
  "language_info": {
   "codemirror_mode": {
    "name": "ipython",
    "version": 3
   },
   "file_extension": ".py",
   "mimetype": "text/x-python",
   "name": "python",
   "nbconvert_exporter": "python",
   "pygments_lexer": "ipython3",
   "version": "3.7.12"
  }
 },
 "nbformat": 4,
 "nbformat_minor": 5
}
